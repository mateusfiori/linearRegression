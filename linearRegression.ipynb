{
 "cells": [
  {
   "cell_type": "code",
   "execution_count": 1,
   "metadata": {},
   "outputs": [],
   "source": [
    "from sklearn.linear_model import LinearRegression\n",
    "from sklearn.datasets import load_boston\n",
    "from sklearn.model_selection import train_test_split\n",
    "from sklearn.metrics import explained_variance_score\n",
    "from sklearn.metrics import mean_absolute_error\n",
    "from sklearn.metrics import median_absolute_error\n",
    "from sklearn.metrics import r2_score\n",
    "from sklearn.metrics import mean_squared_error"
   ]
  },
  {
   "cell_type": "code",
   "execution_count": 10,
   "metadata": {},
   "outputs": [],
   "source": [
    "#instanciacao do dataset Boston Housing Prices\n",
    "boston = load_boston()\n",
    "\n",
    "X = boston.data\n",
    "y = boston.target\n",
    "\n",
    "#divisao do conjuto de treinamento e conjunto de teste\n",
    "X_train, X_test, y_train, y_test = train_test_split(X, y, test_size=0.40, random_state=42, shuffle=True)"
   ]
  },
  {
   "cell_type": "code",
   "execution_count": 3,
   "metadata": {},
   "outputs": [],
   "source": [
    "#instanciacao do regressor linear\n",
    "lr = LinearRegression(normalize=True)\n",
    "\n",
    "#Ajuste dos parametros\n",
    "lr.fit(X_train, y_train)\n",
    "\n",
    "#vetor com os valores preditos\n",
    "y_pred = lr.predict(X_test)"
   ]
  },
  {
   "cell_type": "code",
   "execution_count": 11,
   "metadata": {},
   "outputs": [],
   "source": [
    "#Acuracia do estimator, regressor levando em consideração o conjunto de features para teste\n",
    "#e o conjunto de alvos para teste\n",
    "scoreLR = lr.score(X_test, y_test)\n",
    "\n",
    "#Scores provenientes de Regression Metrics (sklearn.metrics)\n",
    "R2 = r2_score(y_test, y_pred)\n",
    "MSE = mean_squared_error(y_test, y_pred)\n",
    "EVS = explained_variance_score(y_test, y_pred)\n",
    "MAE = mean_absolute_error(y_test, y_pred)\n",
    "MeAE = median_absolute_error(y_test, y_pred)"
   ]
  },
  {
   "cell_type": "code",
   "execution_count": 12,
   "metadata": {},
   "outputs": [
    {
     "name": "stdout",
     "output_type": "stream",
     "text": [
      "Métricas:\n",
      "\n",
      "R2 SCORE (lr): 0.7122678067990311\n",
      "\n",
      "R2 SCORE (R2): 0.7122678067990311\n",
      "MEAN SQUARED ERROR (MSE): 21.85141389270155\n",
      "\n",
      "Explained Variance Score (EVS): 0.7124394042399415\n",
      "Mean Absolut Error (MAE): 3.3007305446158877\n",
      "Median Absolut Error (MeAE): 2.4546717566254124\n"
     ]
    }
   ],
   "source": [
    "#prints dos SCORES\n",
    "print(\"Métricas:\")\n",
    "print()\n",
    "print(\"R2 SCORE (lr): {}\".format(scoreLR))\n",
    "print(\"\")\n",
    "print(\"R2 SCORE (R2): {}\".format(R2))\n",
    "print(\"MEAN SQUARED ERROR (MSE): {}\".format(MSE))\n",
    "print(\"\")\n",
    "print(\"Explained Variance Score (EVS): {}\".format(EVS))\n",
    "print(\"Mean Absolut Error (MAE): {}\".format(MAE))\n",
    "print(\"Median Absolut Error (MeAE): {}\".format(MeAE))\n"
   ]
  },
  {
   "cell_type": "code",
   "execution_count": null,
   "metadata": {},
   "outputs": [],
   "source": []
  }
 ],
 "metadata": {
  "kernelspec": {
   "display_name": "Python 3",
   "language": "python",
   "name": "python3"
  },
  "language_info": {
   "codemirror_mode": {
    "name": "ipython",
    "version": 3
   },
   "file_extension": ".py",
   "mimetype": "text/x-python",
   "name": "python",
   "nbconvert_exporter": "python",
   "pygments_lexer": "ipython3",
   "version": "3.6.4"
  }
 },
 "nbformat": 4,
 "nbformat_minor": 2
}
